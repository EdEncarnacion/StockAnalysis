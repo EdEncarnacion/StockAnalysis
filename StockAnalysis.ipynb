{
 "cells": [
  {
   "cell_type": "code",
   "execution_count": 1,
   "metadata": {},
   "outputs": [],
   "source": [
    "#import library yfinance\n",
    "import yfinance as yf\n",
    "import pandas as pd\n",
    "import matplotlib.pyplot as plt\n",
    "import seaborn as sns"
   ]
  },
  {
   "cell_type": "code",
   "execution_count": 2,
   "metadata": {},
   "outputs": [],
   "source": [
    "stock = yf.Ticker('TSLA') #Put inside the parenthesis the ticker you want to analyze\n",
    "stockinfo = stock.info\n",
    "#To have a cleaner view of the information you are extracting uncomment the next lines\n",
    "# for line in stockinfo.items():\n",
    "#     print(':', line)"
   ]
  },
  {
   "cell_type": "markdown",
   "metadata": {},
   "source": [
    "Lets see how much the stock value have grow over time"
   ]
  },
  {
   "cell_type": "code",
   "execution_count": null,
   "metadata": {},
   "outputs": [],
   "source": [
    "stock_grow = pd.DataFrame(stock.history(period='max').Close) \n",
    "stock_grow = stock_grow.rename(columns={'Close':'Stock valuation'})\n",
    "\n",
    "#Plotting\n",
    "sns.set_theme(style='whitegrid')\n",
    "sns.set_context = 'poster'\n",
    "sns.relplot(x='Date', y='Stock valuation', data = stock_grow, kind='line', color = 'g')\n",
    "plt.show()"
   ]
  },
  {
   "cell_type": "markdown",
   "metadata": {},
   "source": [
    "Looks like the stock valuation increased considerably in the last two years, let´s see the stock recommendations for that period of time"
   ]
  },
  {
   "cell_type": "code",
   "execution_count": 76,
   "metadata": {},
   "outputs": [
    {
     "data": {
      "text/plain": [
       "Year  Recommendation\n",
       "2020  Buy               19\n",
       "      Hold              14\n",
       "      Underperform      13\n",
       "      Outperform        11\n",
       "      Sell              11\n",
       "2021  Buy               22\n",
       "      Outperform         6\n",
       "      Hold               2\n",
       "      Sell               1\n",
       "      Underperform       1\n",
       "2022  Buy               11\n",
       "      Outperform         9\n",
       "      Hold               4\n",
       "      Sell               4\n",
       "Name: Recommendation, dtype: int64"
      ]
     },
     "execution_count": 76,
     "metadata": {},
     "output_type": "execute_result"
    }
   ],
   "source": [
    "df = stock.recommendations\n",
    "df['Year'] = ''\n",
    "df = df.loc['2020-01-01':]\n",
    "for i in df:\n",
    "    df.loc['2020-01-01':'2020-12-31','Year'] = '2020'\n",
    "for i in df:\n",
    "    df.loc['2021-01-01':'2021-12-31','Year'] = '2021'\n",
    "for i in df:\n",
    "    df.loc['2022-01-01':'2022-12-31','Year'] = '2022'\n",
    "\n",
    "df = df.rename(columns = {'To Grade':'Recommendation'})\n",
    "reco = df[df['Recommendation'].isin(['Sell', 'Underperform', 'Hold', 'Outperform', 'Buy'])]\n",
    "recommendations = reco.groupby('Year')['Recommendation'].value_counts()\n",
    "recommendations"
   ]
  },
  {
   "cell_type": "markdown",
   "metadata": {},
   "source": [
    "Now let´s check the distribution of stock share holders"
   ]
  },
  {
   "cell_type": "code",
   "execution_count": null,
   "metadata": {},
   "outputs": [],
   "source": [
    "holders = stock.major_holders\n",
    "holders = holders.rename(columns={0:'Percentage', 1:'Holders'})\n",
    "holders = holders[holders['Holders'] != 'Number of Institutions Holding Shares']\n",
    "holders['Holders'] = holders['Holders'].str.replace('% of ', '')\n",
    "holders['Percentage'] = holders['Percentage'].str.replace('%', '').astype(float)\n",
    "\n",
    "#Plotting\n",
    "sns.set_theme(style='whitegrid')\n",
    "sns.set_context = 'poster'\n",
    "sns.catplot(x='Holders', y='Percentage', data=holders, kind='bar')\n",
    "plt.xticks(rotation=90)\n",
    "plt.show()"
   ]
  },
  {
   "cell_type": "markdown",
   "metadata": {},
   "source": [
    "Finally, let´s see how many shares and stock value does each Institution has"
   ]
  },
  {
   "cell_type": "code",
   "execution_count": null,
   "metadata": {},
   "outputs": [],
   "source": [
    "inst_holders = stock.institutional_holders\n",
    "inst_holders = inst_holders[['Holder', 'Shares', 'Value']]\n",
    "inst_holders = inst_holders.rename(columns={'Holder':'Institutional Holders'})\n",
    "\n",
    "#Plotting\n",
    "sns.set_theme(style='whitegrid')\n",
    "sns.set_context = 'poster'\n",
    "sns.set_color_codes('pastel')\n",
    "sns.barplot(x='Institutional Holders', y='Shares', data=inst_holders, color = 'b')\n",
    "plt.xticks(rotation=90)\n",
    "plt.show()\n",
    "sns.barplot(x='Institutional Holders', y='Value', data=inst_holders, color = 'r')\n",
    "plt.xticks(rotation=90)\n",
    "plt.show()"
   ]
  },
  {
   "cell_type": "code",
   "execution_count": 60,
   "metadata": {},
   "outputs": [
    {
     "data": {
      "text/plain": [
       "Year  Recommendation\n",
       "2020  Buy               19\n",
       "      Hold              14\n",
       "      Underperform      13\n",
       "      Outperform        11\n",
       "      Sell              11\n",
       "2021  Buy               22\n",
       "      Outperform         6\n",
       "      Hold               2\n",
       "      Sell               1\n",
       "      Underperform       1\n",
       "2022  Buy               11\n",
       "      Outperform         9\n",
       "      Hold               4\n",
       "      Sell               4\n",
       "Name: Recommendation, dtype: int64"
      ]
     },
     "execution_count": 60,
     "metadata": {},
     "output_type": "execute_result"
    }
   ],
   "source": []
  }
 ],
 "metadata": {
  "kernelspec": {
   "display_name": "Python 3.9.12 ('base')",
   "language": "python",
   "name": "python3"
  },
  "language_info": {
   "codemirror_mode": {
    "name": "ipython",
    "version": 3
   },
   "file_extension": ".py",
   "mimetype": "text/x-python",
   "name": "python",
   "nbconvert_exporter": "python",
   "pygments_lexer": "ipython3",
   "version": "3.9.12"
  },
  "orig_nbformat": 4,
  "vscode": {
   "interpreter": {
    "hash": "8228f0baacd25f76b253778e7ac0ba25740c569abf26e03d20d32a1f1cebc9db"
   }
  }
 },
 "nbformat": 4,
 "nbformat_minor": 2
}
